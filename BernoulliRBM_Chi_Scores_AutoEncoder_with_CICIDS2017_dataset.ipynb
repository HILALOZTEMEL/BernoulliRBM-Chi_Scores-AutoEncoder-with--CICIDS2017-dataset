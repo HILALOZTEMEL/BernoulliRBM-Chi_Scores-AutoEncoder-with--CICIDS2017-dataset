{
  "nbformat": 4,
  "nbformat_minor": 0,
  "metadata": {
    "colab": {
      "name": "BernoulliRBM-Chi_Scores-AutoEncoder-with- CICIDS2017 dataset",
      "provenance": [],
      "collapsed_sections": [],
      "authorship_tag": "ABX9TyMfyw+/1QxFepzGJanZS2L2",
      "include_colab_link": true
    },
    "kernelspec": {
      "name": "python3",
      "display_name": "Python 3"
    },
    "language_info": {
      "name": "python"
    }
  },
  "cells": [
    {
      "cell_type": "markdown",
      "metadata": {
        "id": "view-in-github",
        "colab_type": "text"
      },
      "source": [
        "<a href=\"https://colab.research.google.com/github/HILALOZTEMEL/BernoulliRBM-Chi_Scores-AutoEncoder-with--CICIDS2017-dataset/blob/main/BernoulliRBM_Chi_Scores_AutoEncoder_with_CICIDS2017_dataset.ipynb\" target=\"_parent\"><img src=\"https://colab.research.google.com/assets/colab-badge.svg\" alt=\"Open In Colab\"/></a>"
      ]
    },
    {
      "cell_type": "code",
      "execution_count": null,
      "metadata": {
        "id": "5OunL_amz9fr",
        "colab": {
          "base_uri": "https://localhost:8080/"
        },
        "outputId": "00fde608-6580-4d10-f828-46044915b115"
      },
      "outputs": [
        {
          "output_type": "stream",
          "name": "stdout",
          "text": [
            "Drive already mounted at /gdrive; to attempt to forcibly remount, call drive.mount(\"/gdrive\", force_remount=True).\n",
            "/gdrive\n",
            "Dimensions of the Test set: (1042557, 79)\n"
          ]
        }
      ],
      "source": [
        "from sklearn.neural_network import BernoulliRBM\n",
        "import numpy as np\n",
        "import pandas as pd\n",
        "from sklearn.model_selection import train_test_split\n",
        "\n",
        "from sklearn.pipeline import Pipeline\n",
        "from sklearn import linear_model\n",
        "\n",
        "\n",
        "#kimlik doğrulama işlemi :drive in içinde çalışma ortamı sağlarız serverlarda\n",
        "from google.colab import drive\n",
        "drive.mount('/gdrive')\n",
        "%cd /gdrive\n",
        "\n",
        "df = pd.read_csv(\"/gdrive/My Drive/İstanbul Gedik Üniversitesi/DataMining/CICIDS2017.csv\")\n",
        "print('Dimensions of the Test set:',df.shape)"
      ]
    },
    {
      "cell_type": "code",
      "source": [
        "df.head()"
      ],
      "metadata": {
        "colab": {
          "base_uri": "https://localhost:8080/",
          "height": 332
        },
        "id": "uOPAnqwNPdY8",
        "outputId": "41c9d295-9bfd-4c68-facb-492685a7bf05"
      },
      "execution_count": null,
      "outputs": [
        {
          "output_type": "execute_result",
          "data": {
            "text/plain": [
              "    Destination Port   Flow Duration   Total Fwd Packets  \\\n",
              "0              54865               3                   2   \n",
              "1              55054             109                   1   \n",
              "2              55055              52                   1   \n",
              "3              46236              34                   1   \n",
              "4              54863               3                   2   \n",
              "\n",
              "    Total Backward Packets  Total Length of Fwd Packets  \\\n",
              "0                        0                           12   \n",
              "1                        1                            6   \n",
              "2                        1                            6   \n",
              "3                        1                            6   \n",
              "4                        0                           12   \n",
              "\n",
              "    Total Length of Bwd Packets   Fwd Packet Length Max  \\\n",
              "0                             0                       6   \n",
              "1                             6                       6   \n",
              "2                             6                       6   \n",
              "3                             6                       6   \n",
              "4                             0                       6   \n",
              "\n",
              "    Fwd Packet Length Min   Fwd Packet Length Mean   Fwd Packet Length Std  \\\n",
              "0                       6                      6.0                     0.0   \n",
              "1                       6                      6.0                     0.0   \n",
              "2                       6                      6.0                     0.0   \n",
              "3                       6                      6.0                     0.0   \n",
              "4                       6                      6.0                     0.0   \n",
              "\n",
              "   ...   min_seg_size_forward  Active Mean   Active Std   Active Max  \\\n",
              "0  ...                     20          0.0          0.0            0   \n",
              "1  ...                     20          0.0          0.0            0   \n",
              "2  ...                     20          0.0          0.0            0   \n",
              "3  ...                     20          0.0          0.0            0   \n",
              "4  ...                     20          0.0          0.0            0   \n",
              "\n",
              "    Active Min  Idle Mean   Idle Std   Idle Max   Idle Min   Label  \n",
              "0            0        0.0        0.0          0          0  BENIGN  \n",
              "1            0        0.0        0.0          0          0  BENIGN  \n",
              "2            0        0.0        0.0          0          0  BENIGN  \n",
              "3            0        0.0        0.0          0          0  BENIGN  \n",
              "4            0        0.0        0.0          0          0  BENIGN  \n",
              "\n",
              "[5 rows x 79 columns]"
            ],
            "text/html": [
              "\n",
              "  <div id=\"df-cf81a385-2a4a-4d72-89cd-a991ca3fc91e\">\n",
              "    <div class=\"colab-df-container\">\n",
              "      <div>\n",
              "<style scoped>\n",
              "    .dataframe tbody tr th:only-of-type {\n",
              "        vertical-align: middle;\n",
              "    }\n",
              "\n",
              "    .dataframe tbody tr th {\n",
              "        vertical-align: top;\n",
              "    }\n",
              "\n",
              "    .dataframe thead th {\n",
              "        text-align: right;\n",
              "    }\n",
              "</style>\n",
              "<table border=\"1\" class=\"dataframe\">\n",
              "  <thead>\n",
              "    <tr style=\"text-align: right;\">\n",
              "      <th></th>\n",
              "      <th>Destination Port</th>\n",
              "      <th>Flow Duration</th>\n",
              "      <th>Total Fwd Packets</th>\n",
              "      <th>Total Backward Packets</th>\n",
              "      <th>Total Length of Fwd Packets</th>\n",
              "      <th>Total Length of Bwd Packets</th>\n",
              "      <th>Fwd Packet Length Max</th>\n",
              "      <th>Fwd Packet Length Min</th>\n",
              "      <th>Fwd Packet Length Mean</th>\n",
              "      <th>Fwd Packet Length Std</th>\n",
              "      <th>...</th>\n",
              "      <th>min_seg_size_forward</th>\n",
              "      <th>Active Mean</th>\n",
              "      <th>Active Std</th>\n",
              "      <th>Active Max</th>\n",
              "      <th>Active Min</th>\n",
              "      <th>Idle Mean</th>\n",
              "      <th>Idle Std</th>\n",
              "      <th>Idle Max</th>\n",
              "      <th>Idle Min</th>\n",
              "      <th>Label</th>\n",
              "    </tr>\n",
              "  </thead>\n",
              "  <tbody>\n",
              "    <tr>\n",
              "      <th>0</th>\n",
              "      <td>54865</td>\n",
              "      <td>3</td>\n",
              "      <td>2</td>\n",
              "      <td>0</td>\n",
              "      <td>12</td>\n",
              "      <td>0</td>\n",
              "      <td>6</td>\n",
              "      <td>6</td>\n",
              "      <td>6.0</td>\n",
              "      <td>0.0</td>\n",
              "      <td>...</td>\n",
              "      <td>20</td>\n",
              "      <td>0.0</td>\n",
              "      <td>0.0</td>\n",
              "      <td>0</td>\n",
              "      <td>0</td>\n",
              "      <td>0.0</td>\n",
              "      <td>0.0</td>\n",
              "      <td>0</td>\n",
              "      <td>0</td>\n",
              "      <td>BENIGN</td>\n",
              "    </tr>\n",
              "    <tr>\n",
              "      <th>1</th>\n",
              "      <td>55054</td>\n",
              "      <td>109</td>\n",
              "      <td>1</td>\n",
              "      <td>1</td>\n",
              "      <td>6</td>\n",
              "      <td>6</td>\n",
              "      <td>6</td>\n",
              "      <td>6</td>\n",
              "      <td>6.0</td>\n",
              "      <td>0.0</td>\n",
              "      <td>...</td>\n",
              "      <td>20</td>\n",
              "      <td>0.0</td>\n",
              "      <td>0.0</td>\n",
              "      <td>0</td>\n",
              "      <td>0</td>\n",
              "      <td>0.0</td>\n",
              "      <td>0.0</td>\n",
              "      <td>0</td>\n",
              "      <td>0</td>\n",
              "      <td>BENIGN</td>\n",
              "    </tr>\n",
              "    <tr>\n",
              "      <th>2</th>\n",
              "      <td>55055</td>\n",
              "      <td>52</td>\n",
              "      <td>1</td>\n",
              "      <td>1</td>\n",
              "      <td>6</td>\n",
              "      <td>6</td>\n",
              "      <td>6</td>\n",
              "      <td>6</td>\n",
              "      <td>6.0</td>\n",
              "      <td>0.0</td>\n",
              "      <td>...</td>\n",
              "      <td>20</td>\n",
              "      <td>0.0</td>\n",
              "      <td>0.0</td>\n",
              "      <td>0</td>\n",
              "      <td>0</td>\n",
              "      <td>0.0</td>\n",
              "      <td>0.0</td>\n",
              "      <td>0</td>\n",
              "      <td>0</td>\n",
              "      <td>BENIGN</td>\n",
              "    </tr>\n",
              "    <tr>\n",
              "      <th>3</th>\n",
              "      <td>46236</td>\n",
              "      <td>34</td>\n",
              "      <td>1</td>\n",
              "      <td>1</td>\n",
              "      <td>6</td>\n",
              "      <td>6</td>\n",
              "      <td>6</td>\n",
              "      <td>6</td>\n",
              "      <td>6.0</td>\n",
              "      <td>0.0</td>\n",
              "      <td>...</td>\n",
              "      <td>20</td>\n",
              "      <td>0.0</td>\n",
              "      <td>0.0</td>\n",
              "      <td>0</td>\n",
              "      <td>0</td>\n",
              "      <td>0.0</td>\n",
              "      <td>0.0</td>\n",
              "      <td>0</td>\n",
              "      <td>0</td>\n",
              "      <td>BENIGN</td>\n",
              "    </tr>\n",
              "    <tr>\n",
              "      <th>4</th>\n",
              "      <td>54863</td>\n",
              "      <td>3</td>\n",
              "      <td>2</td>\n",
              "      <td>0</td>\n",
              "      <td>12</td>\n",
              "      <td>0</td>\n",
              "      <td>6</td>\n",
              "      <td>6</td>\n",
              "      <td>6.0</td>\n",
              "      <td>0.0</td>\n",
              "      <td>...</td>\n",
              "      <td>20</td>\n",
              "      <td>0.0</td>\n",
              "      <td>0.0</td>\n",
              "      <td>0</td>\n",
              "      <td>0</td>\n",
              "      <td>0.0</td>\n",
              "      <td>0.0</td>\n",
              "      <td>0</td>\n",
              "      <td>0</td>\n",
              "      <td>BENIGN</td>\n",
              "    </tr>\n",
              "  </tbody>\n",
              "</table>\n",
              "<p>5 rows × 79 columns</p>\n",
              "</div>\n",
              "      <button class=\"colab-df-convert\" onclick=\"convertToInteractive('df-cf81a385-2a4a-4d72-89cd-a991ca3fc91e')\"\n",
              "              title=\"Convert this dataframe to an interactive table.\"\n",
              "              style=\"display:none;\">\n",
              "        \n",
              "  <svg xmlns=\"http://www.w3.org/2000/svg\" height=\"24px\"viewBox=\"0 0 24 24\"\n",
              "       width=\"24px\">\n",
              "    <path d=\"M0 0h24v24H0V0z\" fill=\"none\"/>\n",
              "    <path d=\"M18.56 5.44l.94 2.06.94-2.06 2.06-.94-2.06-.94-.94-2.06-.94 2.06-2.06.94zm-11 1L8.5 8.5l.94-2.06 2.06-.94-2.06-.94L8.5 2.5l-.94 2.06-2.06.94zm10 10l.94 2.06.94-2.06 2.06-.94-2.06-.94-.94-2.06-.94 2.06-2.06.94z\"/><path d=\"M17.41 7.96l-1.37-1.37c-.4-.4-.92-.59-1.43-.59-.52 0-1.04.2-1.43.59L10.3 9.45l-7.72 7.72c-.78.78-.78 2.05 0 2.83L4 21.41c.39.39.9.59 1.41.59.51 0 1.02-.2 1.41-.59l7.78-7.78 2.81-2.81c.8-.78.8-2.07 0-2.86zM5.41 20L4 18.59l7.72-7.72 1.47 1.35L5.41 20z\"/>\n",
              "  </svg>\n",
              "      </button>\n",
              "      \n",
              "  <style>\n",
              "    .colab-df-container {\n",
              "      display:flex;\n",
              "      flex-wrap:wrap;\n",
              "      gap: 12px;\n",
              "    }\n",
              "\n",
              "    .colab-df-convert {\n",
              "      background-color: #E8F0FE;\n",
              "      border: none;\n",
              "      border-radius: 50%;\n",
              "      cursor: pointer;\n",
              "      display: none;\n",
              "      fill: #1967D2;\n",
              "      height: 32px;\n",
              "      padding: 0 0 0 0;\n",
              "      width: 32px;\n",
              "    }\n",
              "\n",
              "    .colab-df-convert:hover {\n",
              "      background-color: #E2EBFA;\n",
              "      box-shadow: 0px 1px 2px rgba(60, 64, 67, 0.3), 0px 1px 3px 1px rgba(60, 64, 67, 0.15);\n",
              "      fill: #174EA6;\n",
              "    }\n",
              "\n",
              "    [theme=dark] .colab-df-convert {\n",
              "      background-color: #3B4455;\n",
              "      fill: #D2E3FC;\n",
              "    }\n",
              "\n",
              "    [theme=dark] .colab-df-convert:hover {\n",
              "      background-color: #434B5C;\n",
              "      box-shadow: 0px 1px 3px 1px rgba(0, 0, 0, 0.15);\n",
              "      filter: drop-shadow(0px 1px 2px rgba(0, 0, 0, 0.3));\n",
              "      fill: #FFFFFF;\n",
              "    }\n",
              "  </style>\n",
              "\n",
              "      <script>\n",
              "        const buttonEl =\n",
              "          document.querySelector('#df-cf81a385-2a4a-4d72-89cd-a991ca3fc91e button.colab-df-convert');\n",
              "        buttonEl.style.display =\n",
              "          google.colab.kernel.accessAllowed ? 'block' : 'none';\n",
              "\n",
              "        async function convertToInteractive(key) {\n",
              "          const element = document.querySelector('#df-cf81a385-2a4a-4d72-89cd-a991ca3fc91e');\n",
              "          const dataTable =\n",
              "            await google.colab.kernel.invokeFunction('convertToInteractive',\n",
              "                                                     [key], {});\n",
              "          if (!dataTable) return;\n",
              "\n",
              "          const docLinkHtml = 'Like what you see? Visit the ' +\n",
              "            '<a target=\"_blank\" href=https://colab.research.google.com/notebooks/data_table.ipynb>data table notebook</a>'\n",
              "            + ' to learn more about interactive tables.';\n",
              "          element.innerHTML = '';\n",
              "          dataTable['output_type'] = 'display_data';\n",
              "          await google.colab.output.renderOutput(dataTable, element);\n",
              "          const docLink = document.createElement('div');\n",
              "          docLink.innerHTML = docLinkHtml;\n",
              "          element.appendChild(docLink);\n",
              "        }\n",
              "      </script>\n",
              "    </div>\n",
              "  </div>\n",
              "  "
            ]
          },
          "metadata": {},
          "execution_count": 22
        }
      ]
    },
    {
      "cell_type": "code",
      "source": [
        "from sklearn.preprocessing import LabelEncoder\n",
        "from sklearn import preprocessing\n",
        "labelencoder = LabelEncoder()\n",
        "df.iloc[:, -1] = labelencoder.fit_transform(df.iloc[:, -1])\n",
        "X = df.drop([' Label'],axis=1)\n",
        "y=df[[' Label']]\n",
        "X_train, X_test, y_train, y_test = train_test_split(X,y, train_size = 0.7, test_size = 0.3, random_state = 0, stratify = y)\n",
        "X_train = np.array(X_train)\n",
        "for column in  X_train:\n",
        "        median = np.nanmedian(column)\n",
        "        column[np.isnan(column)] = median\n",
        "        column[column == np.inf] = 0\n",
        "        column[column == -np.inf] = 0\n",
        "\n",
        "y_train = np.array(y_train)\n",
        "for column in  y_train:\n",
        "        median = np.nanmedian(column)\n",
        "        column[np.isnan(column)] = median\n",
        "        column[column == np.inf] = 0\n",
        "        column[column == -np.inf] = 0\n",
        "\n",
        "X_test = np.array(X_test)\n",
        "for column in  X_test:\n",
        "        median = np.nanmedian(column)\n",
        "        column[np.isnan(column)] = median\n",
        "        column[column == np.inf] = 0\n",
        "        column[column == -np.inf] = 0\n",
        "\n",
        "y_test = np.array(y_test)\n",
        "for column in  y_test: \n",
        "        median = np.nanmedian(column)\n",
        "        column[np.isnan(column)] = median\n",
        "        column[column == np.inf] = 0\n",
        "        column[column == -np.inf] = 0\n"
      ],
      "metadata": {
        "id": "EmMho1gWayxz"
      },
      "execution_count": null,
      "outputs": []
    },
    {
      "cell_type": "code",
      "source": [
        "X_train.shape,X_test.shape , y_train.shape ,y_test.shape"
      ],
      "metadata": {
        "colab": {
          "base_uri": "https://localhost:8080/"
        },
        "id": "0fH_NzTLmBNi",
        "outputId": "dbf3fc97-244d-41ed-b000-61d5943dbe7f"
      },
      "execution_count": null,
      "outputs": [
        {
          "output_type": "execute_result",
          "data": {
            "text/plain": [
              "((729789, 78), (312768, 78), (729789, 1), (312768, 1))"
            ]
          },
          "metadata": {},
          "execution_count": 24
        }
      ]
    },
    {
      "cell_type": "code",
      "source": [
        "rbm = BernoulliRBM(n_components=40, learning_rate=0.06, n_iter=100, verbose=1, random_state=101)\n",
        "rbm.fit(X_train, y_train)"
      ],
      "metadata": {
        "colab": {
          "base_uri": "https://localhost:8080/"
        },
        "id": "P_uz90iy1JIe",
        "outputId": "f3ca1fc2-703c-4385-e86c-d9fb4acb45a0"
      },
      "execution_count": null,
      "outputs": [
        {
          "output_type": "stream",
          "name": "stdout",
          "text": [
            "[BernoulliRBM] Iteration 1, pseudo-likelihood = -166189308315724.66, time = 14.73s\n",
            "[BernoulliRBM] Iteration 2, pseudo-likelihood = -332606868003916.88, time = 17.20s\n",
            "[BernoulliRBM] Iteration 3, pseudo-likelihood = -499024427634408.62, time = 16.03s\n",
            "[BernoulliRBM] Iteration 4, pseudo-likelihood = -665441987431984.62, time = 16.88s\n",
            "[BernoulliRBM] Iteration 5, pseudo-likelihood = -831859546987968.88, time = 17.21s\n",
            "[BernoulliRBM] Iteration 6, pseudo-likelihood = -998277106706032.12, time = 15.85s\n",
            "[BernoulliRBM] Iteration 7, pseudo-likelihood = -1164694666419538.75, time = 17.61s\n",
            "[BernoulliRBM] Iteration 8, pseudo-likelihood = -1331112226175271.25, time = 14.89s\n",
            "[BernoulliRBM] Iteration 9, pseudo-likelihood = -1497529785593212.50, time = 18.79s\n",
            "[BernoulliRBM] Iteration 10, pseudo-likelihood = -1663947345264630.50, time = 14.24s\n",
            "[BernoulliRBM] Iteration 11, pseudo-likelihood = -1830364905398344.25, time = 18.50s\n",
            "[BernoulliRBM] Iteration 12, pseudo-likelihood = -1996782464540310.75, time = 14.33s\n",
            "[BernoulliRBM] Iteration 13, pseudo-likelihood = -2163200024292938.25, time = 18.53s\n",
            "[BernoulliRBM] Iteration 14, pseudo-likelihood = -2329617584246496.50, time = 14.18s\n",
            "[BernoulliRBM] Iteration 15, pseudo-likelihood = -2496035144568430.50, time = 18.48s\n",
            "[BernoulliRBM] Iteration 16, pseudo-likelihood = -2662452704008729.00, time = 14.10s\n",
            "[BernoulliRBM] Iteration 17, pseudo-likelihood = -2828870263419850.00, time = 18.31s\n",
            "[BernoulliRBM] Iteration 18, pseudo-likelihood = -2995287822619556.00, time = 14.18s\n",
            "[BernoulliRBM] Iteration 19, pseudo-likelihood = -3161705381867507.50, time = 20.61s\n",
            "[BernoulliRBM] Iteration 20, pseudo-likelihood = -3328122942032328.50, time = 13.97s\n",
            "[BernoulliRBM] Iteration 21, pseudo-likelihood = -3494540501393254.00, time = 18.40s\n",
            "[BernoulliRBM] Iteration 22, pseudo-likelihood = -3660958062101278.50, time = 14.17s\n",
            "[BernoulliRBM] Iteration 23, pseudo-likelihood = -3827375621108355.50, time = 18.65s\n",
            "[BernoulliRBM] Iteration 24, pseudo-likelihood = -3993793180541621.00, time = 14.20s\n",
            "[BernoulliRBM] Iteration 25, pseudo-likelihood = -4160210741087266.00, time = 18.23s\n",
            "[BernoulliRBM] Iteration 26, pseudo-likelihood = -4326628300049309.00, time = 14.13s\n",
            "[BernoulliRBM] Iteration 27, pseudo-likelihood = -4493045860584779.00, time = 18.33s\n",
            "[BernoulliRBM] Iteration 28, pseudo-likelihood = -4659463419675455.00, time = 14.13s\n",
            "[BernoulliRBM] Iteration 29, pseudo-likelihood = -4825880980151226.00, time = 18.87s\n",
            "[BernoulliRBM] Iteration 30, pseudo-likelihood = -4992298540150935.00, time = 14.24s\n",
            "[BernoulliRBM] Iteration 31, pseudo-likelihood = -5158716099398249.00, time = 22.41s\n",
            "[BernoulliRBM] Iteration 32, pseudo-likelihood = -5325133659166642.00, time = 19.43s\n",
            "[BernoulliRBM] Iteration 33, pseudo-likelihood = -5491551218046919.00, time = 14.29s\n",
            "[BernoulliRBM] Iteration 34, pseudo-likelihood = -5657968778135354.00, time = 18.65s\n",
            "[BernoulliRBM] Iteration 35, pseudo-likelihood = -5824386337664142.00, time = 14.18s\n",
            "[BernoulliRBM] Iteration 36, pseudo-likelihood = -5990803896895864.00, time = 20.86s\n",
            "[BernoulliRBM] Iteration 37, pseudo-likelihood = -6157221455908740.00, time = 14.01s\n",
            "[BernoulliRBM] Iteration 38, pseudo-likelihood = -6323639015505990.00, time = 18.64s\n",
            "[BernoulliRBM] Iteration 39, pseudo-likelihood = -6490056576416928.00, time = 14.18s\n",
            "[BernoulliRBM] Iteration 40, pseudo-likelihood = -6656474135423725.00, time = 18.65s\n",
            "[BernoulliRBM] Iteration 41, pseudo-likelihood = -6822891694949141.00, time = 14.16s\n",
            "[BernoulliRBM] Iteration 42, pseudo-likelihood = -6989309254253778.00, time = 18.27s\n",
            "[BernoulliRBM] Iteration 43, pseudo-likelihood = -7155726814629814.00, time = 14.29s\n",
            "[BernoulliRBM] Iteration 44, pseudo-likelihood = -7322144375823274.00, time = 18.88s\n",
            "[BernoulliRBM] Iteration 45, pseudo-likelihood = -7488561934762200.00, time = 14.25s\n",
            "[BernoulliRBM] Iteration 46, pseudo-likelihood = -7654979493800642.00, time = 18.64s\n",
            "[BernoulliRBM] Iteration 47, pseudo-likelihood = -7821397052641189.00, time = 14.04s\n",
            "[BernoulliRBM] Iteration 48, pseudo-likelihood = -7987814613288804.00, time = 17.86s\n",
            "[BernoulliRBM] Iteration 49, pseudo-likelihood = -8154232173805316.00, time = 14.05s\n",
            "[BernoulliRBM] Iteration 50, pseudo-likelihood = -8320649733829635.00, time = 17.50s\n",
            "[BernoulliRBM] Iteration 51, pseudo-likelihood = -8487067292219103.00, time = 13.99s\n",
            "[BernoulliRBM] Iteration 52, pseudo-likelihood = -8653484851124037.00, time = 18.29s\n",
            "[BernoulliRBM] Iteration 53, pseudo-likelihood = -8819902410817516.00, time = 14.05s\n",
            "[BernoulliRBM] Iteration 54, pseudo-likelihood = -8986319973051953.00, time = 17.57s\n",
            "[BernoulliRBM] Iteration 55, pseudo-likelihood = -9152737531222100.00, time = 14.17s\n",
            "[BernoulliRBM] Iteration 56, pseudo-likelihood = -9319155091261198.00, time = 17.55s\n",
            "[BernoulliRBM] Iteration 57, pseudo-likelihood = -9485572650936210.00, time = 15.99s\n",
            "[BernoulliRBM] Iteration 58, pseudo-likelihood = -9651990211169340.00, time = 17.61s\n",
            "[BernoulliRBM] Iteration 59, pseudo-likelihood = -9818407770785278.00, time = 14.14s\n",
            "[BernoulliRBM] Iteration 60, pseudo-likelihood = -9984825332624560.00, time = 17.59s\n",
            "[BernoulliRBM] Iteration 61, pseudo-likelihood = -10151242890799418.00, time = 14.12s\n",
            "[BernoulliRBM] Iteration 62, pseudo-likelihood = -10317660449864922.00, time = 17.84s\n",
            "[BernoulliRBM] Iteration 63, pseudo-likelihood = -10484078008696724.00, time = 14.26s\n",
            "[BernoulliRBM] Iteration 64, pseudo-likelihood = -10650495570108134.00, time = 17.47s\n",
            "[BernoulliRBM] Iteration 65, pseudo-likelihood = -10816913128202868.00, time = 14.11s\n",
            "[BernoulliRBM] Iteration 66, pseudo-likelihood = -10983330688167844.00, time = 17.59s\n",
            "[BernoulliRBM] Iteration 67, pseudo-likelihood = -11149748250020750.00, time = 14.09s\n",
            "[BernoulliRBM] Iteration 68, pseudo-likelihood = -11316165808005900.00, time = 17.81s\n",
            "[BernoulliRBM] Iteration 69, pseudo-likelihood = -11482583365822520.00, time = 14.14s\n",
            "[BernoulliRBM] Iteration 70, pseudo-likelihood = -11649000926525802.00, time = 17.84s\n",
            "[BernoulliRBM] Iteration 71, pseudo-likelihood = -11815418488118378.00, time = 14.30s\n",
            "[BernoulliRBM] Iteration 72, pseudo-likelihood = -11981836044077724.00, time = 15.73s\n",
            "[BernoulliRBM] Iteration 73, pseudo-likelihood = -12148253605414672.00, time = 14.06s\n",
            "[BernoulliRBM] Iteration 74, pseudo-likelihood = -12314671164230326.00, time = 17.68s\n",
            "[BernoulliRBM] Iteration 75, pseudo-likelihood = -12481088723825724.00, time = 14.15s\n",
            "[BernoulliRBM] Iteration 76, pseudo-likelihood = -12647506282624788.00, time = 18.23s\n",
            "[BernoulliRBM] Iteration 77, pseudo-likelihood = -12813923846018232.00, time = 15.72s\n",
            "[BernoulliRBM] Iteration 78, pseudo-likelihood = -12980341405268902.00, time = 18.91s\n",
            "[BernoulliRBM] Iteration 79, pseudo-likelihood = -13146758964728846.00, time = 14.13s\n",
            "[BernoulliRBM] Iteration 80, pseudo-likelihood = -13313176522094802.00, time = 17.72s\n",
            "[BernoulliRBM] Iteration 81, pseudo-likelihood = -13479594085841892.00, time = 14.05s\n",
            "[BernoulliRBM] Iteration 82, pseudo-likelihood = -13646011641636552.00, time = 18.15s\n",
            "[BernoulliRBM] Iteration 83, pseudo-likelihood = -13812429202063630.00, time = 14.10s\n",
            "[BernoulliRBM] Iteration 84, pseudo-likelihood = -13978846759946726.00, time = 17.91s\n",
            "[BernoulliRBM] Iteration 85, pseudo-likelihood = -14145264322762866.00, time = 14.15s\n",
            "[BernoulliRBM] Iteration 86, pseudo-likelihood = -14311681879604488.00, time = 17.63s\n",
            "[BernoulliRBM] Iteration 87, pseudo-likelihood = -14478099443745212.00, time = 14.13s\n",
            "[BernoulliRBM] Iteration 88, pseudo-likelihood = -14644517003142304.00, time = 17.98s\n",
            "[BernoulliRBM] Iteration 89, pseudo-likelihood = -14810934562765354.00, time = 13.99s\n",
            "[BernoulliRBM] Iteration 90, pseudo-likelihood = -14977352120545320.00, time = 17.95s\n",
            "[BernoulliRBM] Iteration 91, pseudo-likelihood = -15143769683304816.00, time = 14.19s\n",
            "[BernoulliRBM] Iteration 92, pseudo-likelihood = -15310187239012370.00, time = 17.84s\n",
            "[BernoulliRBM] Iteration 93, pseudo-likelihood = -15476604800040488.00, time = 14.15s\n",
            "[BernoulliRBM] Iteration 94, pseudo-likelihood = -15643022356694904.00, time = 17.68s\n",
            "[BernoulliRBM] Iteration 95, pseudo-likelihood = -15809439918691504.00, time = 16.23s\n",
            "[BernoulliRBM] Iteration 96, pseudo-likelihood = -15975857477752546.00, time = 16.80s\n",
            "[BernoulliRBM] Iteration 97, pseudo-likelihood = -16142275037984978.00, time = 14.13s\n",
            "[BernoulliRBM] Iteration 98, pseudo-likelihood = -16308692598984794.00, time = 15.86s\n",
            "[BernoulliRBM] Iteration 99, pseudo-likelihood = -16475110159196142.00, time = 14.23s\n",
            "[BernoulliRBM] Iteration 100, pseudo-likelihood = -16641527718138022.00, time = 17.59s\n"
          ]
        },
        {
          "output_type": "execute_result",
          "data": {
            "text/plain": [
              "BernoulliRBM(learning_rate=0.06, n_components=40, n_iter=100, random_state=101,\n",
              "             verbose=1)"
            ]
          },
          "metadata": {},
          "execution_count": 25
        }
      ]
    },
    {
      "cell_type": "code",
      "source": [
        "X_train.shape,X_test.shape , y_train.shape ,y_test.shape"
      ],
      "metadata": {
        "colab": {
          "base_uri": "https://localhost:8080/"
        },
        "id": "wu2qpYWKjbI4",
        "outputId": "ac87e688-5890-4f73-a9cc-b3bfe05385fc"
      },
      "execution_count": null,
      "outputs": [
        {
          "output_type": "execute_result",
          "data": {
            "text/plain": [
              "((729789, 78), (312768, 78), (729789, 1), (312768, 1))"
            ]
          },
          "metadata": {},
          "execution_count": 26
        }
      ]
    },
    {
      "cell_type": "code",
      "source": [
        "from sklearn.preprocessing import MinMaxScaler #fixed import\n",
        "\n",
        "scaler = MinMaxScaler()\n",
        "X_train = scaler.fit_transform(X_train)\n"
      ],
      "metadata": {
        "id": "Kr7NTM2UiGGR"
      },
      "execution_count": null,
      "outputs": []
    },
    {
      "cell_type": "code",
      "source": [
        "from sklearn.feature_selection import chi2\n",
        "\n",
        "chi_scores = chi2(X_train,y_train)\n",
        "chi_scores"
      ],
      "metadata": {
        "colab": {
          "base_uri": "https://localhost:8080/"
        },
        "id": "bUEGFluyBNGE",
        "outputId": "16b64fa0-5f82-4ea8-d01d-f9281c5b4675"
      },
      "execution_count": null,
      "outputs": [
        {
          "output_type": "execute_result",
          "data": {
            "text/plain": [
              "(array([3.63691115e+04, 1.44708123e+05, 4.04319145e+00, 4.35612479e+00,\n",
              "        1.30380144e+02, 2.14221710e+00, 2.24937506e+03, 3.39767187e+03,\n",
              "        3.81470417e+03, 2.97471606e+03, 9.19654379e+04, 9.53320038e+03,\n",
              "        1.37528585e+05, 1.24065927e+05, 1.55949023e+00, 4.20629113e+01,\n",
              "        1.63604181e+04, 8.01428980e+04, 2.07782602e+05, 2.07073344e+03,\n",
              "        1.47596571e+05, 3.28230729e+04, 1.31307893e+05, 2.10860961e+05,\n",
              "        1.47546123e+03, 2.91919184e+04, 7.62232142e+03, 3.67521229e+04,\n",
              "        5.17838273e+04, 1.12139319e+03, 1.40015280e+04,            nan,\n",
              "                   nan,            nan, 3.71220890e+00, 4.50492631e+00,\n",
              "        2.99959613e+03, 4.76215017e+03, 3.49871301e+03, 6.06861475e+04,\n",
              "        8.62223742e+04, 1.03426550e+05, 6.47681331e+04, 1.53156839e+05,\n",
              "        1.40015280e+04, 1.33429728e+02, 1.15180786e+05, 4.83905676e+04,\n",
              "        3.82726821e+04,            nan, 1.33429728e+02, 1.84001636e+02,\n",
              "        8.07732960e+04, 3.81470417e+03, 1.37528585e+05, 3.71220890e+00,\n",
              "                   nan,            nan,            nan,            nan,\n",
              "                   nan,            nan, 4.04319145e+00, 1.30380144e+02,\n",
              "        4.35612479e+00, 2.14002981e+00, 1.40261790e+04, 6.98694254e+03,\n",
              "        4.67686874e+00, 3.62803215e+03, 1.66168706e+02, 1.14500602e+02,\n",
              "        1.12394650e+02, 2.13458888e+02, 2.19286683e+05, 1.51538757e+04,\n",
              "        2.14058351e+05, 2.27318031e+05]),\n",
              " array([0.00000000e+000, 0.00000000e+000, 2.56837845e-001, 2.25488282e-001,\n",
              "        4.47868626e-028, 5.43419283e-001, 0.00000000e+000, 0.00000000e+000,\n",
              "        0.00000000e+000, 0.00000000e+000, 0.00000000e+000, 0.00000000e+000,\n",
              "        0.00000000e+000, 0.00000000e+000, 6.68609612e-001, 3.89066796e-009,\n",
              "        0.00000000e+000, 0.00000000e+000, 0.00000000e+000, 0.00000000e+000,\n",
              "        0.00000000e+000, 0.00000000e+000, 0.00000000e+000, 0.00000000e+000,\n",
              "        0.00000000e+000, 0.00000000e+000, 0.00000000e+000, 0.00000000e+000,\n",
              "        0.00000000e+000, 8.31319970e-243, 0.00000000e+000,             nan,\n",
              "                    nan,             nan, 2.94264174e-001, 2.11851293e-001,\n",
              "        0.00000000e+000, 0.00000000e+000, 0.00000000e+000, 0.00000000e+000,\n",
              "        0.00000000e+000, 0.00000000e+000, 0.00000000e+000, 0.00000000e+000,\n",
              "        0.00000000e+000, 9.86025559e-029, 0.00000000e+000, 0.00000000e+000,\n",
              "        0.00000000e+000,             nan, 9.86025559e-029, 1.20571493e-039,\n",
              "        0.00000000e+000, 0.00000000e+000, 0.00000000e+000, 2.94264174e-001,\n",
              "                    nan,             nan,             nan,             nan,\n",
              "                    nan,             nan, 2.56837845e-001, 4.47868626e-028,\n",
              "        2.25488282e-001, 5.43857004e-001, 0.00000000e+000, 0.00000000e+000,\n",
              "        1.97046227e-001, 0.00000000e+000, 8.54533287e-036, 1.17923030e-024,\n",
              "        3.34917960e-024, 5.20725664e-046, 0.00000000e+000, 0.00000000e+000,\n",
              "        0.00000000e+000, 0.00000000e+000]))"
            ]
          },
          "metadata": {},
          "execution_count": 28
        }
      ]
    },
    {
      "cell_type": "code",
      "source": [
        "X_train.shape,X_test.shape , y_train.shape ,y_test.shape"
      ],
      "metadata": {
        "id": "8hTB3g_ijzRh",
        "colab": {
          "base_uri": "https://localhost:8080/"
        },
        "outputId": "31b07a1b-3690-4c43-a10c-b0e9472edf12"
      },
      "execution_count": null,
      "outputs": [
        {
          "output_type": "execute_result",
          "data": {
            "text/plain": [
              "((729789, 78), (312768, 78), (729789, 1), (312768, 1))"
            ]
          },
          "metadata": {},
          "execution_count": 29
        }
      ]
    },
    {
      "cell_type": "code",
      "source": [
        "#Importing the Libraries\n",
        "from sklearn.datasets import make_classification\n",
        "from sklearn.datasets import make_classification\n",
        "from sklearn.preprocessing import MinMaxScaler\n",
        "from sklearn.model_selection import train_test_split\n",
        "from tensorflow.keras.layers import LeakyReLU\n",
        "from tensorflow.keras.models import Model\n",
        "from tensorflow.keras.layers import Input\n",
        "from tensorflow.keras.layers import Dense\n",
        "from tensorflow.keras.layers import BatchNormalization\n",
        "from tensorflow.keras.models import load_model\n"
      ],
      "metadata": {
        "id": "uuIPrIArkV7-"
      },
      "execution_count": null,
      "outputs": []
    },
    {
      "cell_type": "code",
      "source": [
        "X_train = X_train.astype('float32') / 255.\n",
        "X_test = X_test.astype('float32') / 255.\n",
        "\n",
        "\n",
        "\n",
        "# scale data\n",
        "t = MinMaxScaler()\n",
        "t.fit(X_train)\n",
        "X_train = t.transform(X_train)\n",
        "X_test = t.transform(X_test)\n",
        "\n",
        "# AutoEncoder Model Preparation\n",
        "n_inputs = X_train.shape[1]\n",
        "# define encoder\n",
        "input_data_shape= Input(shape=(n_inputs,))\n",
        "# encoder level 1\n",
        "encoder= Dense(n_inputs*2)(input_data_shape)\n",
        "encoder = BatchNormalization()(encoder)\n",
        "encoder= LeakyReLU()(encoder)\n",
        "# encoder level 2\n",
        "encoder= Dense(n_inputs)(encoder)\n",
        "encoder= BatchNormalization()(encoder)\n",
        "encoder= LeakyReLU()(encoder)\n",
        "# bottleneck\n",
        "n_bottleneck = round(float(n_inputs) / 2.0)\n",
        "bottleneck = Dense(n_bottleneck)(encoder)\n",
        "# define decoder, level 1\n",
        "decoder = Dense(n_inputs)(bottleneck)\n",
        "decoder = BatchNormalization()(decoder)\n",
        "decoder = LeakyReLU()(decoder)\n",
        "# decoder level 2\n",
        "decoder = Dense(n_inputs*2)(decoder)\n",
        "decoder = BatchNormalization()(decoder)\n",
        "decoder = LeakyReLU()(decoder)\n"
      ],
      "metadata": {
        "id": "ZkJaipmECMBv"
      },
      "execution_count": null,
      "outputs": []
    },
    {
      "cell_type": "code",
      "source": [
        "# output layer\n",
        "output = Dense(n_inputs, activation='linear')(decoder)\n",
        "# define autoencoder model\n",
        "model = Model(inputs=input_data_shape, outputs=output)\n",
        "# compile autoencoder model\n",
        "model.compile(loss='categorical_crossentropy',optimizer='adam',metrics=['accuracy'])"
      ],
      "metadata": {
        "id": "p_zbidlo7bHT"
      },
      "execution_count": null,
      "outputs": []
    },
    {
      "cell_type": "code",
      "source": [
        "# fit the autoencoder model to reconstruct input\n",
        "history = model.fit(X_train, X_train,shuffle=True, epochs=5, batch_size=20, validation_data=(X_test, X_test))\n"
      ],
      "metadata": {
        "id": "k4YaQ7kMk8m0",
        "colab": {
          "base_uri": "https://localhost:8080/"
        },
        "outputId": "561b6653-70b1-4e3c-98d9-d036b86b68d6"
      },
      "execution_count": null,
      "outputs": [
        {
          "output_type": "stream",
          "name": "stdout",
          "text": [
            "Epoch 1/5\n",
            "36490/36490 [==============================] - 173s 5ms/step - loss: 39.3170 - accuracy: 0.0930 - val_loss: 1784751616.0000 - val_accuracy: 0.0000e+00\n",
            "Epoch 2/5\n",
            "36490/36490 [==============================] - 182s 5ms/step - loss: nan - accuracy: 0.0092 - val_loss: nan - val_accuracy: 0.0269\n",
            "Epoch 3/5\n",
            "36490/36490 [==============================] - 169s 5ms/step - loss: nan - accuracy: 3.0831e-04 - val_loss: nan - val_accuracy: 0.0269\n",
            "Epoch 4/5\n",
            "36490/36490 [==============================] - 179s 5ms/step - loss: nan - accuracy: 3.0831e-04 - val_loss: nan - val_accuracy: 0.0269\n",
            "Epoch 5/5\n",
            "36490/36490 [==============================] - 189s 5ms/step - loss: nan - accuracy: 3.0831e-04 - val_loss: nan - val_accuracy: 0.0269\n"
          ]
        }
      ]
    },
    {
      "cell_type": "code",
      "source": [
        "#Using Logistic Regression Algorithm to the Training Set\n",
        "from sklearn.linear_model import LogisticRegression\n",
        "classifier = LogisticRegression(random_state = 0)\n",
        "classifier.fit(X_train, y_train)"
      ],
      "metadata": {
        "id": "Ty9TWm_fjMw8",
        "colab": {
          "base_uri": "https://localhost:8080/"
        },
        "outputId": "8fa89e45-5f5b-4904-aa01-5df09501d710"
      },
      "execution_count": null,
      "outputs": [
        {
          "output_type": "stream",
          "name": "stderr",
          "text": [
            "/usr/local/lib/python3.7/dist-packages/sklearn/utils/validation.py:993: DataConversionWarning: A column-vector y was passed when a 1d array was expected. Please change the shape of y to (n_samples, ), for example using ravel().\n",
            "  y = column_or_1d(y, warn=True)\n",
            "/usr/local/lib/python3.7/dist-packages/sklearn/linear_model/_logistic.py:818: ConvergenceWarning: lbfgs failed to converge (status=1):\n",
            "STOP: TOTAL NO. of ITERATIONS REACHED LIMIT.\n",
            "\n",
            "Increase the number of iterations (max_iter) or scale the data as shown in:\n",
            "    https://scikit-learn.org/stable/modules/preprocessing.html\n",
            "Please also refer to the documentation for alternative solver options:\n",
            "    https://scikit-learn.org/stable/modules/linear_model.html#logistic-regression\n",
            "  extra_warning_msg=_LOGISTIC_SOLVER_CONVERGENCE_MSG,\n"
          ]
        },
        {
          "output_type": "execute_result",
          "data": {
            "text/plain": [
              "LogisticRegression(random_state=0)"
            ]
          },
          "metadata": {},
          "execution_count": 34
        }
      ]
    },
    {
      "cell_type": "code",
      "source": [
        "# Returns a NumPy Array\n",
        "# Predict for One Observation (image)\n",
        "classifier.predict(X_test[0].reshape(1,-1))"
      ],
      "metadata": {
        "id": "6kK38Cdpqple",
        "colab": {
          "base_uri": "https://localhost:8080/"
        },
        "outputId": "69e9d27d-12a1-4033-ce47-c4ce44f3b3f6"
      },
      "execution_count": null,
      "outputs": [
        {
          "output_type": "execute_result",
          "data": {
            "text/plain": [
              "array([2])"
            ]
          },
          "metadata": {},
          "execution_count": 35
        }
      ]
    },
    {
      "cell_type": "code",
      "source": [
        "X_test.shape"
      ],
      "metadata": {
        "id": "WvPNCv5fq11l",
        "colab": {
          "base_uri": "https://localhost:8080/"
        },
        "outputId": "a5042097-8529-43b1-d130-1b9ff0be1f4c"
      },
      "execution_count": null,
      "outputs": [
        {
          "output_type": "execute_result",
          "data": {
            "text/plain": [
              "(312768, 78)"
            ]
          },
          "metadata": {},
          "execution_count": 36
        }
      ]
    },
    {
      "cell_type": "code",
      "source": [
        "classifier.predict(X_test[0:10])"
      ],
      "metadata": {
        "id": "oxxcqaV1q_L7",
        "colab": {
          "base_uri": "https://localhost:8080/"
        },
        "outputId": "04f16289-b9e2-44a1-c22e-7a39862c5cb2"
      },
      "execution_count": null,
      "outputs": [
        {
          "output_type": "execute_result",
          "data": {
            "text/plain": [
              "array([2, 1, 2, 3, 0, 0, 2, 3, 1, 1])"
            ]
          },
          "metadata": {},
          "execution_count": 37
        }
      ]
    },
    {
      "cell_type": "code",
      "source": [
        "predictions = classifier.predict(X_test)"
      ],
      "metadata": {
        "id": "1we4Ox0IrKXq"
      },
      "execution_count": null,
      "outputs": []
    },
    {
      "cell_type": "code",
      "source": [
        "# Use score method to get accuracy of model\n",
        "score = classifier.score(X_test, y_test)\n",
        "print(score)"
      ],
      "metadata": {
        "id": "9DX2Tb5QrWC-",
        "colab": {
          "base_uri": "https://localhost:8080/"
        },
        "outputId": "4d0be43b-fcbe-4c53-f4ed-373c2622af1d"
      },
      "execution_count": null,
      "outputs": [
        {
          "output_type": "stream",
          "name": "stdout",
          "text": [
            "0.5053522099447514\n"
          ]
        }
      ]
    }
  ]
}